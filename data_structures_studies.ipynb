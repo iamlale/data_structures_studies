{
  "nbformat": 4,
  "nbformat_minor": 0,
  "metadata": {
    "colab": {
      "provenance": [],
      "authorship_tag": "ABX9TyPkDvmYhblHXXxx4P9z+D4W",
      "include_colab_link": true
    },
    "kernelspec": {
      "name": "python3",
      "display_name": "Python 3"
    },
    "language_info": {
      "name": "python"
    }
  },
  "cells": [
    {
      "cell_type": "markdown",
      "metadata": {
        "id": "view-in-github",
        "colab_type": "text"
      },
      "source": [
        "<a href=\"https://colab.research.google.com/github/iamlale/data_structures_studies/blob/main/data_structures_studies.ipynb\" target=\"_parent\"><img src=\"https://colab.research.google.com/assets/colab-badge.svg\" alt=\"Open In Colab\"/></a>"
      ]
    },
    {
      "cell_type": "code",
      "execution_count": 1,
      "metadata": {
        "id": "1fMHfqhyGSTN"
      },
      "outputs": [],
      "source": [
        "orders = [\n",
        "    {\n",
        "        \"customer\": \"Ali\",\n",
        "        \"items\": [\n",
        "            {\"name\": \"Laptop\", \"price\": 15000},\n",
        "            {\"name\": \"Mouse\", \"price\": 500}\n",
        "        ]\n",
        "    },\n",
        "    {\n",
        "        \"customer\": \"Ayşe\",\n",
        "        \"items\": [\n",
        "            {\"name\": \"Phone\", \"price\": 12000},\n",
        "            {\"name\": \"Headphones\", \"price\": 2000}\n",
        "        ]\n",
        "    },\n",
        "    {\n",
        "        \"customer\": \"Mehmet\",\n",
        "        \"items\": [\n",
        "            {\"name\": \"Tablet\", \"price\": 7000},\n",
        "            {\"name\": \"Keyboard\", \"price\": 1000},\n",
        "            {\"name\": \"Mouse\", \"price\": 600}\n",
        "        ]\n",
        "    },\n",
        "    {\n",
        "        \"customer\": \"Zeynep\",\n",
        "        \"items\": [\n",
        "            {\"name\": \"Monitor\", \"price\": 8000},\n",
        "            {\"name\": \"Phone\", \"price\": 11000}\n",
        "        ]\n",
        "    }\n",
        "]"
      ]
    },
    {
      "cell_type": "code",
      "source": [
        "#Toplam sipariş tutarı en yüksek olan müşteriyi bulun.\n",
        "\n",
        "max_order = 0\n",
        "max_order_customer = \"\"\n",
        "\n",
        "for order in orders:\n",
        "    total_price = 0\n",
        "\n",
        "    for item in order[\"items\"]:\n",
        "        total_price += item[\"price\"]\n",
        "\n",
        "    if total_price > max_order:\n",
        "        max_order = total_price\n",
        "        max_order_customer = order[\"customer\"]\n",
        "\n",
        "print(max_order_customer)"
      ],
      "metadata": {
        "colab": {
          "base_uri": "https://localhost:8080/"
        },
        "id": "h2iGre9vG2VJ",
        "outputId": "c384ce0c-0cb5-4935-bd22-19f98cb0ee2b"
      },
      "execution_count": 2,
      "outputs": [
        {
          "output_type": "stream",
          "name": "stdout",
          "text": [
            "Zeynep\n"
          ]
        }
      ]
    },
    {
      "cell_type": "code",
      "source": [
        "#Her müşterinin toplam sipariş tutarını içeren bir sözlük oluşturun.\n",
        "\n",
        "order_totals = {}\n",
        "\n",
        "for order in orders:\n",
        "    total_price = 0\n",
        "\n",
        "    for item in order[\"items\"]:\n",
        "        total_price += item[\"price\"]\n",
        "\n",
        "    order_totals[order[\"customer\"]] = total_price\n",
        "\n",
        "print(order_totals)"
      ],
      "metadata": {
        "colab": {
          "base_uri": "https://localhost:8080/"
        },
        "id": "enxRkhFCG4xI",
        "outputId": "1abab9c0-9c36-4b1b-8ecd-67db95258398"
      },
      "execution_count": 3,
      "outputs": [
        {
          "output_type": "stream",
          "name": "stdout",
          "text": [
            "{'Ali': 15500, 'Ayşe': 14000, 'Mehmet': 8600, 'Zeynep': 19000}\n"
          ]
        }
      ]
    },
    {
      "cell_type": "code",
      "source": [
        " #En çok satılan ürünü bulun. (Birden fazla müşteri tarafından sipariş edilen ürün)\n",
        "order_counts = {}\n",
        "\n",
        "for order in orders:\n",
        "  products_in_order = set()\n",
        "\n",
        "  for item in order[\"items\"]:\n",
        "    product_name = item[\"name\"]\n",
        "\n",
        "    products_in_order.add(product_name)\n",
        "\n",
        "  for product in products_in_order:\n",
        "    if product in order_counts:\n",
        "      order_counts[product] += 1\n",
        "    else:\n",
        "      order_counts[product] = 1\n",
        "\n",
        "most_selling_product = None\n",
        "max_orders = 0\n",
        "\n",
        "for product, count in order_counts.items():\n",
        "  if count > max_orders:\n",
        "    max_orders =count\n",
        "    most_selling_product = product\n",
        "\n",
        "print(most_selling_product)"
      ],
      "metadata": {
        "colab": {
          "base_uri": "https://localhost:8080/"
        },
        "id": "cFe9D8xJG7XC",
        "outputId": "ec0d53ae-01fb-4a39-f28e-a0f89e563b98"
      },
      "execution_count": 4,
      "outputs": [
        {
          "output_type": "stream",
          "name": "stdout",
          "text": [
            "Mouse\n"
          ]
        }
      ]
    },
    {
      "cell_type": "code",
      "source": [
        "#Ortalama sipariş tutarını hesaplayın.\n",
        "total_amount = 0\n",
        "num_orders = len(orders)\n",
        "\n",
        "for order in orders:\n",
        "  order_total = 0\n",
        "\n",
        "  for item in order[\"items\"]:\n",
        "    order_total += item[\"price\"]\n",
        "\n",
        "  total_amount += order_total\n",
        "\n",
        "average_order_amount = total_amount / num_orders\n",
        "print(average_order_amount)"
      ],
      "metadata": {
        "colab": {
          "base_uri": "https://localhost:8080/"
        },
        "id": "Y6sKw-8JG9tT",
        "outputId": "ad62f9b0-f270-416b-87eb-142dd477a361"
      },
      "execution_count": 5,
      "outputs": [
        {
          "output_type": "stream",
          "name": "stdout",
          "text": [
            "14275.0\n"
          ]
        }
      ]
    },
    {
      "cell_type": "code",
      "source": [
        "#Siparişlerinde toplam tutarı 10.000 TL’nin üzerinde olan müşterileri listeleyin.\n",
        "above_customers = []\n",
        "\n",
        "for order in orders:\n",
        "  order_toplami = 0\n",
        "\n",
        "  for item in order[\"items\"]:\n",
        "    order_toplami += item[\"price\"]\n",
        "\n",
        "  if order_toplami > 10000:\n",
        "    above_customers.append(order[\"customer\"])\n",
        "\n",
        "print(above_customers)"
      ],
      "metadata": {
        "colab": {
          "base_uri": "https://localhost:8080/"
        },
        "id": "zWLKaFzjHANM",
        "outputId": "13100e3f-c6eb-486b-adc2-6ca5bb7e9467"
      },
      "execution_count": 6,
      "outputs": [
        {
          "output_type": "stream",
          "name": "stdout",
          "text": [
            "['Ali', 'Ayşe', 'Zeynep']\n"
          ]
        }
      ]
    },
    {
      "cell_type": "code",
      "source": [
        "employees = [\n",
        "    {\n",
        "        \"name\": \"Ahmet\",\n",
        "        \"department\": \"IT\",\n",
        "        \"projects\": [\n",
        "            {\"name\": \"CRM\", \"completed\": True, \"hours\": 120},\n",
        "            {\"name\": \"Security\", \"completed\": False, \"hours\": 80}\n",
        "        ]\n",
        "    },\n",
        "    {\n",
        "        \"name\": \"Elif\",\n",
        "        \"department\": \"HR\",\n",
        "        \"projects\": [\n",
        "            {\"name\": \"Hiring System\", \"completed\": True, \"hours\": 90},\n",
        "            {\"name\": \"Employee Portal\", \"completed\": True, \"hours\": 100}\n",
        "        ]\n",
        "    },\n",
        "    {\n",
        "        \"name\": \"Mehmet\",\n",
        "        \"department\": \"IT\",\n",
        "        \"projects\": [\n",
        "            {\"name\": \"Cloud Migration\", \"completed\": True, \"hours\": 150},\n",
        "            {\"name\": \"Data Analysis\", \"completed\": True, \"hours\": 130}\n",
        "        ]\n",
        "    },\n",
        "    {\n",
        "        \"name\": \"Ayşe\",\n",
        "        \"department\": \"Marketing\",\n",
        "        \"projects\": [\n",
        "            {\"name\": \"Social Media\", \"completed\": True, \"hours\": 60},\n",
        "            {\"name\": \"SEO\", \"completed\": False, \"hours\": 50}\n",
        "        ]\n",
        "    }\n",
        "]"
      ],
      "metadata": {
        "id": "Q5uxVRCgHCeQ"
      },
      "execution_count": 7,
      "outputs": []
    },
    {
      "cell_type": "code",
      "source": [
        "#En çok saat harcayan çalışanı bulun.\n",
        "max_hours = 0\n",
        "max_hours_employee = ''\n",
        "\n",
        "for empl in employees:\n",
        "  total_hours = 0\n",
        "\n",
        "  for project in empl[\"projects\"]:\n",
        "    total_hours += project[\"hours\"]\n",
        "\n",
        "  if total_hours > max_hours:\n",
        "    max_hours = total_hours\n",
        "    max_hours_employee = empl[\"name\"]\n",
        "\n",
        "print(max_hours_employee)"
      ],
      "metadata": {
        "colab": {
          "base_uri": "https://localhost:8080/"
        },
        "id": "QYq0uItPHFWH",
        "outputId": "bcdfb739-65d3-4c7f-f6e8-457432aa58d5"
      },
      "execution_count": 8,
      "outputs": [
        {
          "output_type": "stream",
          "name": "stdout",
          "text": [
            "Mehmet\n"
          ]
        }
      ]
    },
    {
      "cell_type": "code",
      "source": [
        "#Tamamlanan proje sayısı en yüksek olan çalışanı belirleyin.\n",
        "completed_count = 0\n",
        "completed_emps = []\n",
        "\n",
        "for empl in employees:\n",
        "\n",
        "  total_completed = 0\n",
        "\n",
        "  for project in empl[\"projects\"]:\n",
        "    if project[\"completed\"]:\n",
        "      total_completed += 1\n",
        "\n",
        "  if total_completed > completed_count:\n",
        "    completed_count = total_completed\n",
        "    completed_emps = [empl[\"name\"]]\n",
        "\n",
        "  elif total_completed == completed_count:\n",
        "    completed_emps.append(empl[\"name\"])\n",
        "\n",
        "print(completed_emps)"
      ],
      "metadata": {
        "colab": {
          "base_uri": "https://localhost:8080/"
        },
        "id": "Ng-7sMP0HHx1",
        "outputId": "978fb4c8-8340-4324-f27f-7364fecde7cb"
      },
      "execution_count": 9,
      "outputs": [
        {
          "output_type": "stream",
          "name": "stdout",
          "text": [
            "['Elif', 'Mehmet']\n"
          ]
        }
      ]
    },
    {
      "cell_type": "code",
      "source": [
        "#Her departmandaki toplam çalışma saatlerini hesaplayın.\n",
        "\n",
        "dept_hours = {}\n",
        "\n",
        "for emp in employees:\n",
        "  if emp[\"department\"] not in dept_hours:\n",
        "    dept_hours[emp[\"department\"]] = 0\n",
        "  for project in emp[\"projects\"]:\n",
        "    dept_hours[emp[\"department\"]] += project[\"hours\"]\n",
        "print(dept_hours)"
      ],
      "metadata": {
        "colab": {
          "base_uri": "https://localhost:8080/"
        },
        "id": "7AZ3KjFkHM9F",
        "outputId": "553070ac-1ab1-48b6-ffa0-1d32d90300ae"
      },
      "execution_count": 11,
      "outputs": [
        {
          "output_type": "stream",
          "name": "stdout",
          "text": [
            "{'IT': 480, 'HR': 190, 'Marketing': 110}\n"
          ]
        }
      ]
    },
    {
      "cell_type": "code",
      "source": [
        "#En çok proje yapan departmanı bulun.\n",
        "\n",
        "dept_projects = {}\n",
        "\n",
        "for emp in employees:\n",
        "  department = emp[\"department\"]\n",
        "  num_projects = len(emp[\"projects\"])\n",
        "\n",
        "  if department not in dept_projects:\n",
        "    dept_projects[department] = 0\n",
        "\n",
        "  dept_projects[department] += num_projects\n",
        "\n",
        "max_projects = 0\n",
        "max_dept = \"\"\n",
        "\n",
        "for dept, count in dept_projects.items():\n",
        "  if count > max_projects:\n",
        "    max_projects = count\n",
        "    max_dept = dept\n",
        "\n",
        "print(dept_projects)\n",
        "print(max_dept)"
      ],
      "metadata": {
        "colab": {
          "base_uri": "https://localhost:8080/"
        },
        "id": "VMkBZ6WnHO8M",
        "outputId": "42eb6ab1-ed3a-4939-8168-1c0adc6da741"
      },
      "execution_count": 12,
      "outputs": [
        {
          "output_type": "stream",
          "name": "stdout",
          "text": [
            "{'IT': 4, 'HR': 2, 'Marketing': 2}\n",
            "IT\n"
          ]
        }
      ]
    },
    {
      "cell_type": "code",
      "source": [
        "#Tüm projelerin tamamlanma yüzdesini hesaplayın.\n",
        "\n",
        "total_projects = 0\n",
        "completed_projects = 0\n",
        "\n",
        "for emp in employees:\n",
        "  total_projects += len(emp['projects'])\n",
        "\n",
        "  for project in emp[\"projects\"]:\n",
        "    if project['completed']:\n",
        "      completed_projects += 1\n",
        "\n",
        "completion = (completed_projects / total_projects) * 100\n",
        "print(completion,\"%\")"
      ],
      "metadata": {
        "colab": {
          "base_uri": "https://localhost:8080/"
        },
        "id": "8TzQAV4qHRAt",
        "outputId": "37a450ca-b7bc-41dc-f286-94514ff9c4d0"
      },
      "execution_count": 13,
      "outputs": [
        {
          "output_type": "stream",
          "name": "stdout",
          "text": [
            "75.0 %\n"
          ]
        }
      ]
    },
    {
      "cell_type": "code",
      "source": [
        "stock = [\n",
        "    {\n",
        "        \"category\": \"Meyve\",\n",
        "        \"items\": [\n",
        "            {\"name\": \"Elma\", \"price\": 10, \"quantity\": 50},\n",
        "            {\"name\": \"Muz\", \"price\": 15, \"quantity\": 30}\n",
        "        ]\n",
        "    },\n",
        "    {\n",
        "        \"category\": \"Sebze\",\n",
        "        \"items\": [\n",
        "            {\"name\": \"Domates\", \"price\": 8, \"quantity\": 60},\n",
        "            {\"name\": \"Patates\", \"price\": 5, \"quantity\": 100}\n",
        "        ]\n",
        "    },\n",
        "    {\n",
        "        \"category\": \"İçecek\",\n",
        "        \"items\": [\n",
        "            {\"name\": \"Maden Suyu\", \"price\": 3, \"quantity\": 150},\n",
        "            {\"name\": \"Kola\", \"price\": 12, \"quantity\": 80}\n",
        "        ]\n",
        "    }\n",
        "]"
      ],
      "metadata": {
        "id": "gP5blrRGHS74"
      },
      "execution_count": 14,
      "outputs": []
    },
    {
      "cell_type": "code",
      "source": [
        "#Stokta toplam kaç ürün olduğunu hesaplayın.\n",
        "total_quantity = 0\n",
        "\n",
        "for stok in stock:\n",
        "  for item in stok[\"items\"]:\n",
        "    total_quantity += item[\"quantity\"]\n",
        "print(total_quantity)"
      ],
      "metadata": {
        "colab": {
          "base_uri": "https://localhost:8080/"
        },
        "id": "ytxcwTnjHVFa",
        "outputId": "2546e19d-ee42-4b46-e875-d2507b2d445d"
      },
      "execution_count": 15,
      "outputs": [
        {
          "output_type": "stream",
          "name": "stdout",
          "text": [
            "470\n"
          ]
        }
      ]
    },
    {
      "cell_type": "code",
      "source": [
        "#En değerli ürünü (price * quantity en yüksek olan) bulun.\n",
        "\n",
        "price_quantity = 0\n",
        "most_valuable_items = []\n",
        "\n",
        "for stok in stock:\n",
        "\n",
        "  for item in stok[\"items\"]:\n",
        "    temp = item[\"price\"] * item[\"quantity\"]\n",
        "    if temp > price_quantity:\n",
        "      price_quantity = temp\n",
        "      most_valuable_items = [item['name']]\n",
        "    elif temp == price_quantity:\n",
        "      most_valuable_items.append(item['name'])\n",
        "\n",
        "print(most_valuable_items)"
      ],
      "metadata": {
        "colab": {
          "base_uri": "https://localhost:8080/"
        },
        "id": "WXXNM-kFHW27",
        "outputId": "8d49ee7c-694d-475a-c84f-21d7c9883d2c"
      },
      "execution_count": 16,
      "outputs": [
        {
          "output_type": "stream",
          "name": "stdout",
          "text": [
            "['Kola']\n"
          ]
        }
      ]
    },
    {
      "cell_type": "code",
      "source": [
        "#Her kategori için toplam stok değerini hesaplayan bir sözlük oluşturun.\n",
        "\n",
        "total_stocks = {}\n",
        "\n",
        "for stok in stock:\n",
        "\n",
        "  category = stok['category']\n",
        "  item_quantity = 0\n",
        "\n",
        "  \"\"\"if category not in total_stocks:\n",
        "    total_stocks[category] = 0\"\"\"\n",
        "\n",
        "  for item in stok[\"items\"]:\n",
        "    item_quantity += item[\"quantity\"]\n",
        "    total_stocks[category] = item_quantity\n",
        "\n",
        "print(total_stocks)"
      ],
      "metadata": {
        "colab": {
          "base_uri": "https://localhost:8080/"
        },
        "id": "PZuy_VtmHZHw",
        "outputId": "6901ba2b-dae6-44e7-fdde-832d79ae1d18"
      },
      "execution_count": 17,
      "outputs": [
        {
          "output_type": "stream",
          "name": "stdout",
          "text": [
            "{'Meyve': 80, 'Sebze': 160, 'İçecek': 230}\n"
          ]
        }
      ]
    },
    {
      "cell_type": "code",
      "source": [
        "#Stok miktarı en düşük olan ürünü bulun.\n",
        "stock_value = float('inf')\n",
        "item_name = ''\n",
        "\n",
        "for stok in stock:\n",
        "\n",
        "  for item in stok['items']:\n",
        "    if item['quantity'] < stock_value:\n",
        "      stock_value = item['quantity']\n",
        "      item_name = item['name']\n",
        "\n",
        "print(item_name)"
      ],
      "metadata": {
        "colab": {
          "base_uri": "https://localhost:8080/"
        },
        "id": "wbovqGwhHa_Q",
        "outputId": "1b202297-ba9c-485d-9dc0-1b08f61cbae7"
      },
      "execution_count": 18,
      "outputs": [
        {
          "output_type": "stream",
          "name": "stdout",
          "text": [
            "Muz\n"
          ]
        }
      ]
    },
    {
      "cell_type": "code",
      "source": [
        "#Ortalama ürün fiyatını hesaplayın.\n",
        "\n",
        "total_price = 0\n",
        "item_count = 0\n",
        "\n",
        "for stok in stock:\n",
        "  for item in stok['items']:\n",
        "    item_count += 1\n",
        "    total_price += item['price']\n",
        "\n",
        "avg_price = (total_price / item_count)\n",
        "print(round(avg_price, 2))"
      ],
      "metadata": {
        "colab": {
          "base_uri": "https://localhost:8080/"
        },
        "id": "prv7z6SjHfoZ",
        "outputId": "4a3aa738-408d-4cbd-bddf-576e5a5d960e"
      },
      "execution_count": 19,
      "outputs": [
        {
          "output_type": "stream",
          "name": "stdout",
          "text": [
            "8.83\n"
          ]
        }
      ]
    }
  ]
}